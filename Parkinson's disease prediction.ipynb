{
 "cells": [
  {
   "cell_type": "markdown",
   "metadata": {},
   "source": [
    "# Parkinson's disease prediction"
   ]
  },
  {
   "cell_type": "code",
   "execution_count": 1,
   "metadata": {},
   "outputs": [],
   "source": [
    "import pandas as pd\n",
    "import numpy as np\n",
    "import matplotlib.pyplot as plt\n",
    "import seaborn as sns"
   ]
  },
  {
   "cell_type": "code",
   "execution_count": 2,
   "metadata": {},
   "outputs": [],
   "source": [
    "parkinson_data=pd.read_csv(\"C:/Users/lenovo/Downloads/pd_speech_features.csv\")"
   ]
  },
  {
   "cell_type": "code",
   "execution_count": 3,
   "metadata": {},
   "outputs": [
    {
     "data": {
      "text/html": [
       "<div>\n",
       "<style scoped>\n",
       "    .dataframe tbody tr th:only-of-type {\n",
       "        vertical-align: middle;\n",
       "    }\n",
       "\n",
       "    .dataframe tbody tr th {\n",
       "        vertical-align: top;\n",
       "    }\n",
       "\n",
       "    .dataframe thead th {\n",
       "        text-align: right;\n",
       "    }\n",
       "</style>\n",
       "<table border=\"1\" class=\"dataframe\">\n",
       "  <thead>\n",
       "    <tr style=\"text-align: right;\">\n",
       "      <th></th>\n",
       "      <th>id</th>\n",
       "      <th>gender</th>\n",
       "      <th>PPE</th>\n",
       "      <th>DFA</th>\n",
       "      <th>RPDE</th>\n",
       "      <th>numPulses</th>\n",
       "      <th>numPeriodsPulses</th>\n",
       "      <th>meanPeriodPulses</th>\n",
       "      <th>stdDevPeriodPulses</th>\n",
       "      <th>locPctJitter</th>\n",
       "      <th>...</th>\n",
       "      <th>tqwt_kurtosisValue_dec_28</th>\n",
       "      <th>tqwt_kurtosisValue_dec_29</th>\n",
       "      <th>tqwt_kurtosisValue_dec_30</th>\n",
       "      <th>tqwt_kurtosisValue_dec_31</th>\n",
       "      <th>tqwt_kurtosisValue_dec_32</th>\n",
       "      <th>tqwt_kurtosisValue_dec_33</th>\n",
       "      <th>tqwt_kurtosisValue_dec_34</th>\n",
       "      <th>tqwt_kurtosisValue_dec_35</th>\n",
       "      <th>tqwt_kurtosisValue_dec_36</th>\n",
       "      <th>class</th>\n",
       "    </tr>\n",
       "  </thead>\n",
       "  <tbody>\n",
       "    <tr>\n",
       "      <th>0</th>\n",
       "      <td>0</td>\n",
       "      <td>1</td>\n",
       "      <td>0.85247</td>\n",
       "      <td>0.71826</td>\n",
       "      <td>0.57227</td>\n",
       "      <td>240</td>\n",
       "      <td>239</td>\n",
       "      <td>0.008064</td>\n",
       "      <td>0.000087</td>\n",
       "      <td>0.00218</td>\n",
       "      <td>...</td>\n",
       "      <td>1.5620</td>\n",
       "      <td>2.6445</td>\n",
       "      <td>3.8686</td>\n",
       "      <td>4.2105</td>\n",
       "      <td>5.1221</td>\n",
       "      <td>4.4625</td>\n",
       "      <td>2.6202</td>\n",
       "      <td>3.0004</td>\n",
       "      <td>18.9405</td>\n",
       "      <td>1</td>\n",
       "    </tr>\n",
       "    <tr>\n",
       "      <th>1</th>\n",
       "      <td>0</td>\n",
       "      <td>1</td>\n",
       "      <td>0.76686</td>\n",
       "      <td>0.69481</td>\n",
       "      <td>0.53966</td>\n",
       "      <td>234</td>\n",
       "      <td>233</td>\n",
       "      <td>0.008258</td>\n",
       "      <td>0.000073</td>\n",
       "      <td>0.00195</td>\n",
       "      <td>...</td>\n",
       "      <td>1.5589</td>\n",
       "      <td>3.6107</td>\n",
       "      <td>23.5155</td>\n",
       "      <td>14.1962</td>\n",
       "      <td>11.0261</td>\n",
       "      <td>9.5082</td>\n",
       "      <td>6.5245</td>\n",
       "      <td>6.3431</td>\n",
       "      <td>45.1780</td>\n",
       "      <td>1</td>\n",
       "    </tr>\n",
       "    <tr>\n",
       "      <th>2</th>\n",
       "      <td>0</td>\n",
       "      <td>1</td>\n",
       "      <td>0.85083</td>\n",
       "      <td>0.67604</td>\n",
       "      <td>0.58982</td>\n",
       "      <td>232</td>\n",
       "      <td>231</td>\n",
       "      <td>0.008340</td>\n",
       "      <td>0.000060</td>\n",
       "      <td>0.00176</td>\n",
       "      <td>...</td>\n",
       "      <td>1.5643</td>\n",
       "      <td>2.3308</td>\n",
       "      <td>9.4959</td>\n",
       "      <td>10.7458</td>\n",
       "      <td>11.0177</td>\n",
       "      <td>4.8066</td>\n",
       "      <td>2.9199</td>\n",
       "      <td>3.1495</td>\n",
       "      <td>4.7666</td>\n",
       "      <td>1</td>\n",
       "    </tr>\n",
       "    <tr>\n",
       "      <th>3</th>\n",
       "      <td>1</td>\n",
       "      <td>0</td>\n",
       "      <td>0.41121</td>\n",
       "      <td>0.79672</td>\n",
       "      <td>0.59257</td>\n",
       "      <td>178</td>\n",
       "      <td>177</td>\n",
       "      <td>0.010858</td>\n",
       "      <td>0.000183</td>\n",
       "      <td>0.00419</td>\n",
       "      <td>...</td>\n",
       "      <td>3.7805</td>\n",
       "      <td>3.5664</td>\n",
       "      <td>5.2558</td>\n",
       "      <td>14.0403</td>\n",
       "      <td>4.2235</td>\n",
       "      <td>4.6857</td>\n",
       "      <td>4.8460</td>\n",
       "      <td>6.2650</td>\n",
       "      <td>4.0603</td>\n",
       "      <td>1</td>\n",
       "    </tr>\n",
       "    <tr>\n",
       "      <th>4</th>\n",
       "      <td>1</td>\n",
       "      <td>0</td>\n",
       "      <td>0.32790</td>\n",
       "      <td>0.79782</td>\n",
       "      <td>0.53028</td>\n",
       "      <td>236</td>\n",
       "      <td>235</td>\n",
       "      <td>0.008162</td>\n",
       "      <td>0.002669</td>\n",
       "      <td>0.00535</td>\n",
       "      <td>...</td>\n",
       "      <td>6.1727</td>\n",
       "      <td>5.8416</td>\n",
       "      <td>6.0805</td>\n",
       "      <td>5.7621</td>\n",
       "      <td>7.7817</td>\n",
       "      <td>11.6891</td>\n",
       "      <td>8.2103</td>\n",
       "      <td>5.0559</td>\n",
       "      <td>6.1164</td>\n",
       "      <td>1</td>\n",
       "    </tr>\n",
       "    <tr>\n",
       "      <th>...</th>\n",
       "      <td>...</td>\n",
       "      <td>...</td>\n",
       "      <td>...</td>\n",
       "      <td>...</td>\n",
       "      <td>...</td>\n",
       "      <td>...</td>\n",
       "      <td>...</td>\n",
       "      <td>...</td>\n",
       "      <td>...</td>\n",
       "      <td>...</td>\n",
       "      <td>...</td>\n",
       "      <td>...</td>\n",
       "      <td>...</td>\n",
       "      <td>...</td>\n",
       "      <td>...</td>\n",
       "      <td>...</td>\n",
       "      <td>...</td>\n",
       "      <td>...</td>\n",
       "      <td>...</td>\n",
       "      <td>...</td>\n",
       "      <td>...</td>\n",
       "    </tr>\n",
       "    <tr>\n",
       "      <th>751</th>\n",
       "      <td>250</td>\n",
       "      <td>0</td>\n",
       "      <td>0.80903</td>\n",
       "      <td>0.56355</td>\n",
       "      <td>0.28385</td>\n",
       "      <td>417</td>\n",
       "      <td>416</td>\n",
       "      <td>0.004627</td>\n",
       "      <td>0.000052</td>\n",
       "      <td>0.00064</td>\n",
       "      <td>...</td>\n",
       "      <td>3.0706</td>\n",
       "      <td>3.0190</td>\n",
       "      <td>3.1212</td>\n",
       "      <td>2.4921</td>\n",
       "      <td>3.5844</td>\n",
       "      <td>3.5400</td>\n",
       "      <td>3.3805</td>\n",
       "      <td>3.2003</td>\n",
       "      <td>6.8671</td>\n",
       "      <td>0</td>\n",
       "    </tr>\n",
       "    <tr>\n",
       "      <th>752</th>\n",
       "      <td>250</td>\n",
       "      <td>0</td>\n",
       "      <td>0.16084</td>\n",
       "      <td>0.56499</td>\n",
       "      <td>0.59194</td>\n",
       "      <td>415</td>\n",
       "      <td>413</td>\n",
       "      <td>0.004550</td>\n",
       "      <td>0.000220</td>\n",
       "      <td>0.00143</td>\n",
       "      <td>...</td>\n",
       "      <td>1.9704</td>\n",
       "      <td>1.7451</td>\n",
       "      <td>1.8277</td>\n",
       "      <td>2.4976</td>\n",
       "      <td>5.2981</td>\n",
       "      <td>4.2616</td>\n",
       "      <td>6.3042</td>\n",
       "      <td>10.9058</td>\n",
       "      <td>28.4170</td>\n",
       "      <td>0</td>\n",
       "    </tr>\n",
       "    <tr>\n",
       "      <th>753</th>\n",
       "      <td>251</td>\n",
       "      <td>0</td>\n",
       "      <td>0.88389</td>\n",
       "      <td>0.72335</td>\n",
       "      <td>0.46815</td>\n",
       "      <td>381</td>\n",
       "      <td>380</td>\n",
       "      <td>0.005069</td>\n",
       "      <td>0.000103</td>\n",
       "      <td>0.00076</td>\n",
       "      <td>...</td>\n",
       "      <td>51.5607</td>\n",
       "      <td>44.4641</td>\n",
       "      <td>26.1586</td>\n",
       "      <td>6.3076</td>\n",
       "      <td>2.8601</td>\n",
       "      <td>2.5361</td>\n",
       "      <td>3.5377</td>\n",
       "      <td>3.3545</td>\n",
       "      <td>5.0424</td>\n",
       "      <td>0</td>\n",
       "    </tr>\n",
       "    <tr>\n",
       "      <th>754</th>\n",
       "      <td>251</td>\n",
       "      <td>0</td>\n",
       "      <td>0.83782</td>\n",
       "      <td>0.74890</td>\n",
       "      <td>0.49823</td>\n",
       "      <td>340</td>\n",
       "      <td>339</td>\n",
       "      <td>0.005679</td>\n",
       "      <td>0.000055</td>\n",
       "      <td>0.00092</td>\n",
       "      <td>...</td>\n",
       "      <td>19.1607</td>\n",
       "      <td>12.8312</td>\n",
       "      <td>8.9434</td>\n",
       "      <td>2.2044</td>\n",
       "      <td>1.9496</td>\n",
       "      <td>1.9664</td>\n",
       "      <td>2.6801</td>\n",
       "      <td>2.8332</td>\n",
       "      <td>3.7131</td>\n",
       "      <td>0</td>\n",
       "    </tr>\n",
       "    <tr>\n",
       "      <th>755</th>\n",
       "      <td>251</td>\n",
       "      <td>0</td>\n",
       "      <td>0.81304</td>\n",
       "      <td>0.76471</td>\n",
       "      <td>0.46374</td>\n",
       "      <td>340</td>\n",
       "      <td>339</td>\n",
       "      <td>0.005676</td>\n",
       "      <td>0.000037</td>\n",
       "      <td>0.00078</td>\n",
       "      <td>...</td>\n",
       "      <td>62.9927</td>\n",
       "      <td>21.8152</td>\n",
       "      <td>9.2457</td>\n",
       "      <td>4.8555</td>\n",
       "      <td>3.0551</td>\n",
       "      <td>3.0415</td>\n",
       "      <td>4.0116</td>\n",
       "      <td>2.6217</td>\n",
       "      <td>3.1527</td>\n",
       "      <td>0</td>\n",
       "    </tr>\n",
       "  </tbody>\n",
       "</table>\n",
       "<p>756 rows × 755 columns</p>\n",
       "</div>"
      ],
      "text/plain": [
       "      id  gender      PPE      DFA     RPDE  numPulses  numPeriodsPulses  \\\n",
       "0      0       1  0.85247  0.71826  0.57227        240               239   \n",
       "1      0       1  0.76686  0.69481  0.53966        234               233   \n",
       "2      0       1  0.85083  0.67604  0.58982        232               231   \n",
       "3      1       0  0.41121  0.79672  0.59257        178               177   \n",
       "4      1       0  0.32790  0.79782  0.53028        236               235   \n",
       "..   ...     ...      ...      ...      ...        ...               ...   \n",
       "751  250       0  0.80903  0.56355  0.28385        417               416   \n",
       "752  250       0  0.16084  0.56499  0.59194        415               413   \n",
       "753  251       0  0.88389  0.72335  0.46815        381               380   \n",
       "754  251       0  0.83782  0.74890  0.49823        340               339   \n",
       "755  251       0  0.81304  0.76471  0.46374        340               339   \n",
       "\n",
       "     meanPeriodPulses  stdDevPeriodPulses  locPctJitter  ...  \\\n",
       "0            0.008064            0.000087       0.00218  ...   \n",
       "1            0.008258            0.000073       0.00195  ...   \n",
       "2            0.008340            0.000060       0.00176  ...   \n",
       "3            0.010858            0.000183       0.00419  ...   \n",
       "4            0.008162            0.002669       0.00535  ...   \n",
       "..                ...                 ...           ...  ...   \n",
       "751          0.004627            0.000052       0.00064  ...   \n",
       "752          0.004550            0.000220       0.00143  ...   \n",
       "753          0.005069            0.000103       0.00076  ...   \n",
       "754          0.005679            0.000055       0.00092  ...   \n",
       "755          0.005676            0.000037       0.00078  ...   \n",
       "\n",
       "     tqwt_kurtosisValue_dec_28  tqwt_kurtosisValue_dec_29  \\\n",
       "0                       1.5620                     2.6445   \n",
       "1                       1.5589                     3.6107   \n",
       "2                       1.5643                     2.3308   \n",
       "3                       3.7805                     3.5664   \n",
       "4                       6.1727                     5.8416   \n",
       "..                         ...                        ...   \n",
       "751                     3.0706                     3.0190   \n",
       "752                     1.9704                     1.7451   \n",
       "753                    51.5607                    44.4641   \n",
       "754                    19.1607                    12.8312   \n",
       "755                    62.9927                    21.8152   \n",
       "\n",
       "     tqwt_kurtosisValue_dec_30  tqwt_kurtosisValue_dec_31  \\\n",
       "0                       3.8686                     4.2105   \n",
       "1                      23.5155                    14.1962   \n",
       "2                       9.4959                    10.7458   \n",
       "3                       5.2558                    14.0403   \n",
       "4                       6.0805                     5.7621   \n",
       "..                         ...                        ...   \n",
       "751                     3.1212                     2.4921   \n",
       "752                     1.8277                     2.4976   \n",
       "753                    26.1586                     6.3076   \n",
       "754                     8.9434                     2.2044   \n",
       "755                     9.2457                     4.8555   \n",
       "\n",
       "     tqwt_kurtosisValue_dec_32  tqwt_kurtosisValue_dec_33  \\\n",
       "0                       5.1221                     4.4625   \n",
       "1                      11.0261                     9.5082   \n",
       "2                      11.0177                     4.8066   \n",
       "3                       4.2235                     4.6857   \n",
       "4                       7.7817                    11.6891   \n",
       "..                         ...                        ...   \n",
       "751                     3.5844                     3.5400   \n",
       "752                     5.2981                     4.2616   \n",
       "753                     2.8601                     2.5361   \n",
       "754                     1.9496                     1.9664   \n",
       "755                     3.0551                     3.0415   \n",
       "\n",
       "     tqwt_kurtosisValue_dec_34  tqwt_kurtosisValue_dec_35  \\\n",
       "0                       2.6202                     3.0004   \n",
       "1                       6.5245                     6.3431   \n",
       "2                       2.9199                     3.1495   \n",
       "3                       4.8460                     6.2650   \n",
       "4                       8.2103                     5.0559   \n",
       "..                         ...                        ...   \n",
       "751                     3.3805                     3.2003   \n",
       "752                     6.3042                    10.9058   \n",
       "753                     3.5377                     3.3545   \n",
       "754                     2.6801                     2.8332   \n",
       "755                     4.0116                     2.6217   \n",
       "\n",
       "     tqwt_kurtosisValue_dec_36  class  \n",
       "0                      18.9405      1  \n",
       "1                      45.1780      1  \n",
       "2                       4.7666      1  \n",
       "3                       4.0603      1  \n",
       "4                       6.1164      1  \n",
       "..                         ...    ...  \n",
       "751                     6.8671      0  \n",
       "752                    28.4170      0  \n",
       "753                     5.0424      0  \n",
       "754                     3.7131      0  \n",
       "755                     3.1527      0  \n",
       "\n",
       "[756 rows x 755 columns]"
      ]
     },
     "execution_count": 3,
     "metadata": {},
     "output_type": "execute_result"
    }
   ],
   "source": [
    "parkinson_data"
   ]
  },
  {
   "cell_type": "code",
   "execution_count": 4,
   "metadata": {},
   "outputs": [
    {
     "data": {
      "text/html": [
       "<div>\n",
       "<style scoped>\n",
       "    .dataframe tbody tr th:only-of-type {\n",
       "        vertical-align: middle;\n",
       "    }\n",
       "\n",
       "    .dataframe tbody tr th {\n",
       "        vertical-align: top;\n",
       "    }\n",
       "\n",
       "    .dataframe thead th {\n",
       "        text-align: right;\n",
       "    }\n",
       "</style>\n",
       "<table border=\"1\" class=\"dataframe\">\n",
       "  <thead>\n",
       "    <tr style=\"text-align: right;\">\n",
       "      <th></th>\n",
       "      <th>id</th>\n",
       "      <th>gender</th>\n",
       "      <th>PPE</th>\n",
       "      <th>DFA</th>\n",
       "      <th>RPDE</th>\n",
       "      <th>numPulses</th>\n",
       "      <th>numPeriodsPulses</th>\n",
       "      <th>meanPeriodPulses</th>\n",
       "      <th>stdDevPeriodPulses</th>\n",
       "      <th>locPctJitter</th>\n",
       "      <th>...</th>\n",
       "      <th>tqwt_kurtosisValue_dec_28</th>\n",
       "      <th>tqwt_kurtosisValue_dec_29</th>\n",
       "      <th>tqwt_kurtosisValue_dec_30</th>\n",
       "      <th>tqwt_kurtosisValue_dec_31</th>\n",
       "      <th>tqwt_kurtosisValue_dec_32</th>\n",
       "      <th>tqwt_kurtosisValue_dec_33</th>\n",
       "      <th>tqwt_kurtosisValue_dec_34</th>\n",
       "      <th>tqwt_kurtosisValue_dec_35</th>\n",
       "      <th>tqwt_kurtosisValue_dec_36</th>\n",
       "      <th>class</th>\n",
       "    </tr>\n",
       "  </thead>\n",
       "  <tbody>\n",
       "    <tr>\n",
       "      <th>0</th>\n",
       "      <td>0</td>\n",
       "      <td>1</td>\n",
       "      <td>0.85247</td>\n",
       "      <td>0.71826</td>\n",
       "      <td>0.57227</td>\n",
       "      <td>240</td>\n",
       "      <td>239</td>\n",
       "      <td>0.008064</td>\n",
       "      <td>0.000087</td>\n",
       "      <td>0.00218</td>\n",
       "      <td>...</td>\n",
       "      <td>1.5620</td>\n",
       "      <td>2.6445</td>\n",
       "      <td>3.8686</td>\n",
       "      <td>4.2105</td>\n",
       "      <td>5.1221</td>\n",
       "      <td>4.4625</td>\n",
       "      <td>2.6202</td>\n",
       "      <td>3.0004</td>\n",
       "      <td>18.9405</td>\n",
       "      <td>1</td>\n",
       "    </tr>\n",
       "    <tr>\n",
       "      <th>1</th>\n",
       "      <td>0</td>\n",
       "      <td>1</td>\n",
       "      <td>0.76686</td>\n",
       "      <td>0.69481</td>\n",
       "      <td>0.53966</td>\n",
       "      <td>234</td>\n",
       "      <td>233</td>\n",
       "      <td>0.008258</td>\n",
       "      <td>0.000073</td>\n",
       "      <td>0.00195</td>\n",
       "      <td>...</td>\n",
       "      <td>1.5589</td>\n",
       "      <td>3.6107</td>\n",
       "      <td>23.5155</td>\n",
       "      <td>14.1962</td>\n",
       "      <td>11.0261</td>\n",
       "      <td>9.5082</td>\n",
       "      <td>6.5245</td>\n",
       "      <td>6.3431</td>\n",
       "      <td>45.1780</td>\n",
       "      <td>1</td>\n",
       "    </tr>\n",
       "    <tr>\n",
       "      <th>2</th>\n",
       "      <td>0</td>\n",
       "      <td>1</td>\n",
       "      <td>0.85083</td>\n",
       "      <td>0.67604</td>\n",
       "      <td>0.58982</td>\n",
       "      <td>232</td>\n",
       "      <td>231</td>\n",
       "      <td>0.008340</td>\n",
       "      <td>0.000060</td>\n",
       "      <td>0.00176</td>\n",
       "      <td>...</td>\n",
       "      <td>1.5643</td>\n",
       "      <td>2.3308</td>\n",
       "      <td>9.4959</td>\n",
       "      <td>10.7458</td>\n",
       "      <td>11.0177</td>\n",
       "      <td>4.8066</td>\n",
       "      <td>2.9199</td>\n",
       "      <td>3.1495</td>\n",
       "      <td>4.7666</td>\n",
       "      <td>1</td>\n",
       "    </tr>\n",
       "    <tr>\n",
       "      <th>3</th>\n",
       "      <td>1</td>\n",
       "      <td>0</td>\n",
       "      <td>0.41121</td>\n",
       "      <td>0.79672</td>\n",
       "      <td>0.59257</td>\n",
       "      <td>178</td>\n",
       "      <td>177</td>\n",
       "      <td>0.010858</td>\n",
       "      <td>0.000183</td>\n",
       "      <td>0.00419</td>\n",
       "      <td>...</td>\n",
       "      <td>3.7805</td>\n",
       "      <td>3.5664</td>\n",
       "      <td>5.2558</td>\n",
       "      <td>14.0403</td>\n",
       "      <td>4.2235</td>\n",
       "      <td>4.6857</td>\n",
       "      <td>4.8460</td>\n",
       "      <td>6.2650</td>\n",
       "      <td>4.0603</td>\n",
       "      <td>1</td>\n",
       "    </tr>\n",
       "    <tr>\n",
       "      <th>4</th>\n",
       "      <td>1</td>\n",
       "      <td>0</td>\n",
       "      <td>0.32790</td>\n",
       "      <td>0.79782</td>\n",
       "      <td>0.53028</td>\n",
       "      <td>236</td>\n",
       "      <td>235</td>\n",
       "      <td>0.008162</td>\n",
       "      <td>0.002669</td>\n",
       "      <td>0.00535</td>\n",
       "      <td>...</td>\n",
       "      <td>6.1727</td>\n",
       "      <td>5.8416</td>\n",
       "      <td>6.0805</td>\n",
       "      <td>5.7621</td>\n",
       "      <td>7.7817</td>\n",
       "      <td>11.6891</td>\n",
       "      <td>8.2103</td>\n",
       "      <td>5.0559</td>\n",
       "      <td>6.1164</td>\n",
       "      <td>1</td>\n",
       "    </tr>\n",
       "  </tbody>\n",
       "</table>\n",
       "<p>5 rows × 755 columns</p>\n",
       "</div>"
      ],
      "text/plain": [
       "   id  gender      PPE      DFA     RPDE  numPulses  numPeriodsPulses  \\\n",
       "0   0       1  0.85247  0.71826  0.57227        240               239   \n",
       "1   0       1  0.76686  0.69481  0.53966        234               233   \n",
       "2   0       1  0.85083  0.67604  0.58982        232               231   \n",
       "3   1       0  0.41121  0.79672  0.59257        178               177   \n",
       "4   1       0  0.32790  0.79782  0.53028        236               235   \n",
       "\n",
       "   meanPeriodPulses  stdDevPeriodPulses  locPctJitter  ...  \\\n",
       "0          0.008064            0.000087       0.00218  ...   \n",
       "1          0.008258            0.000073       0.00195  ...   \n",
       "2          0.008340            0.000060       0.00176  ...   \n",
       "3          0.010858            0.000183       0.00419  ...   \n",
       "4          0.008162            0.002669       0.00535  ...   \n",
       "\n",
       "   tqwt_kurtosisValue_dec_28  tqwt_kurtosisValue_dec_29  \\\n",
       "0                     1.5620                     2.6445   \n",
       "1                     1.5589                     3.6107   \n",
       "2                     1.5643                     2.3308   \n",
       "3                     3.7805                     3.5664   \n",
       "4                     6.1727                     5.8416   \n",
       "\n",
       "   tqwt_kurtosisValue_dec_30  tqwt_kurtosisValue_dec_31  \\\n",
       "0                     3.8686                     4.2105   \n",
       "1                    23.5155                    14.1962   \n",
       "2                     9.4959                    10.7458   \n",
       "3                     5.2558                    14.0403   \n",
       "4                     6.0805                     5.7621   \n",
       "\n",
       "   tqwt_kurtosisValue_dec_32  tqwt_kurtosisValue_dec_33  \\\n",
       "0                     5.1221                     4.4625   \n",
       "1                    11.0261                     9.5082   \n",
       "2                    11.0177                     4.8066   \n",
       "3                     4.2235                     4.6857   \n",
       "4                     7.7817                    11.6891   \n",
       "\n",
       "   tqwt_kurtosisValue_dec_34  tqwt_kurtosisValue_dec_35  \\\n",
       "0                     2.6202                     3.0004   \n",
       "1                     6.5245                     6.3431   \n",
       "2                     2.9199                     3.1495   \n",
       "3                     4.8460                     6.2650   \n",
       "4                     8.2103                     5.0559   \n",
       "\n",
       "   tqwt_kurtosisValue_dec_36  class  \n",
       "0                    18.9405      1  \n",
       "1                    45.1780      1  \n",
       "2                     4.7666      1  \n",
       "3                     4.0603      1  \n",
       "4                     6.1164      1  \n",
       "\n",
       "[5 rows x 755 columns]"
      ]
     },
     "execution_count": 4,
     "metadata": {},
     "output_type": "execute_result"
    }
   ],
   "source": [
    "parkinson_data.head()"
   ]
  },
  {
   "cell_type": "markdown",
   "metadata": {},
   "source": [
    "# data processing"
   ]
  },
  {
   "cell_type": "code",
   "execution_count": 6,
   "metadata": {},
   "outputs": [
    {
     "data": {
      "text/plain": [
       "(756, 755)"
      ]
     },
     "execution_count": 6,
     "metadata": {},
     "output_type": "execute_result"
    }
   ],
   "source": [
    "parkinson_data.shape"
   ]
  },
  {
   "cell_type": "code",
   "execution_count": 7,
   "metadata": {},
   "outputs": [
    {
     "data": {
      "text/plain": [
       "id                           0\n",
       "gender                       0\n",
       "PPE                          0\n",
       "DFA                          0\n",
       "RPDE                         0\n",
       "                            ..\n",
       "tqwt_kurtosisValue_dec_33    0\n",
       "tqwt_kurtosisValue_dec_34    0\n",
       "tqwt_kurtosisValue_dec_35    0\n",
       "tqwt_kurtosisValue_dec_36    0\n",
       "class                        0\n",
       "Length: 755, dtype: int64"
      ]
     },
     "execution_count": 7,
     "metadata": {},
     "output_type": "execute_result"
    }
   ],
   "source": [
    "parkinson_data.isnull().sum()"
   ]
  },
  {
   "cell_type": "code",
   "execution_count": 8,
   "metadata": {},
   "outputs": [
    {
     "name": "stdout",
     "output_type": "stream",
     "text": [
      "<class 'pandas.core.frame.DataFrame'>\n",
      "RangeIndex: 756 entries, 0 to 755\n",
      "Columns: 755 entries, id to class\n",
      "dtypes: float64(749), int64(6)\n",
      "memory usage: 4.4 MB\n"
     ]
    }
   ],
   "source": [
    "parkinson_data.info()"
   ]
  },
  {
   "cell_type": "code",
   "execution_count": 9,
   "metadata": {},
   "outputs": [
    {
     "data": {
      "text/plain": [
       "Index(['id', 'gender', 'PPE', 'DFA', 'RPDE', 'numPulses', 'numPeriodsPulses',\n",
       "       'meanPeriodPulses', 'stdDevPeriodPulses', 'locPctJitter',\n",
       "       ...\n",
       "       'tqwt_kurtosisValue_dec_28', 'tqwt_kurtosisValue_dec_29',\n",
       "       'tqwt_kurtosisValue_dec_30', 'tqwt_kurtosisValue_dec_31',\n",
       "       'tqwt_kurtosisValue_dec_32', 'tqwt_kurtosisValue_dec_33',\n",
       "       'tqwt_kurtosisValue_dec_34', 'tqwt_kurtosisValue_dec_35',\n",
       "       'tqwt_kurtosisValue_dec_36', 'class'],\n",
       "      dtype='object', length=755)"
      ]
     },
     "execution_count": 9,
     "metadata": {},
     "output_type": "execute_result"
    }
   ],
   "source": [
    "parkinson_data.columns"
   ]
  },
  {
   "cell_type": "code",
   "execution_count": 11,
   "metadata": {},
   "outputs": [
    {
     "name": "stdout",
     "output_type": "stream",
     "text": [
      "man: 390 woman: 366\n"
     ]
    }
   ],
   "source": [
    "howmanyman=parkinson_data.gender.sum()\n",
    "total=parkinson_data.gender.count()\n",
    "howmanywoman=total-howmanyman\n",
    "print(\"man: \"+str(howmanyman)+\" woman: \"+str(howmanywoman))"
   ]
  },
  {
   "cell_type": "code",
   "execution_count": 17,
   "metadata": {},
   "outputs": [],
   "source": [
    "labels=parkinson_data.iloc[:, 0].values\n",
    "features=parkinson_data.iloc[:, 1:].values"
   ]
  },
  {
   "cell_type": "code",
   "execution_count": 18,
   "metadata": {},
   "outputs": [
    {
     "name": "stdout",
     "output_type": "stream",
     "text": [
      "(756, 754)\n",
      "0\n"
     ]
    }
   ],
   "source": [
    "print(features.shape)\n",
    "print(labels[0])"
   ]
  },
  {
   "cell_type": "code",
   "execution_count": 7,
   "metadata": {},
   "outputs": [
    {
     "data": {
      "text/plain": [
       "<matplotlib.axes._subplots.AxesSubplot at 0xbb78bf8>"
      ]
     },
     "execution_count": 7,
     "metadata": {},
     "output_type": "execute_result"
    },
    {
     "data": {
      "image/png": "[encoded data removed]",
      "text/plain": [
       "<Figure size 864x720 with 2 Axes>"
      ]
     },
     "metadata": {
      "needs_background": "light"
     },
     "output_type": "display_data"
    }
   ],
   "source": [
    "# To create some correlation heatmap\n",
    "f,ax=plt.subplots(figsize=(12,10))\n",
    "sns.heatmap(parkinson_data[parkinson_data.columns[0:10]].corr(),annot=True)"
   ]
  },
  {
   "cell_type": "markdown",
   "metadata": {},
   "source": [
    "# scale data"
   ]
  },
  {
   "cell_type": "code",
   "execution_count": 33,
   "metadata": {},
   "outputs": [],
   "source": [
    "from sklearn.preprocessing import StandardScaler"
   ]
  },
  {
   "cell_type": "code",
   "execution_count": 34,
   "metadata": {},
   "outputs": [],
   "source": [
    "scaler=StandardScaler()"
   ]
  },
  {
   "cell_type": "code",
   "execution_count": 35,
   "metadata": {},
   "outputs": [],
   "source": [
    "scaled_features=scaler.fit_transform(features)"
   ]
  },
  {
   "cell_type": "markdown",
   "metadata": {},
   "source": [
    "# Splitting the data into train and test data"
   ]
  },
  {
   "cell_type": "code",
   "execution_count": 52,
   "metadata": {},
   "outputs": [],
   "source": [
    "from sklearn.model_selection import train_test_split"
   ]
  },
  {
   "cell_type": "code",
   "execution_count": 53,
   "metadata": {},
   "outputs": [],
   "source": [
    "x_train,x_test,y_train,y_test=train_test_split(scaled_features,labels,test_size=0.3)"
   ]
  },
  {
   "cell_type": "code",
   "execution_count": 38,
   "metadata": {},
   "outputs": [
    {
     "name": "stdout",
     "output_type": "stream",
     "text": [
      "x_train shape-> (529, 754)\n",
      "y_train shape-> (529,)\n",
      "x_test shape-> (227, 754)\n",
      "y_test shape-> (227, 754)\n"
     ]
    }
   ],
   "source": [
    "print(\"x_train shape-> {}\".format(x_train.shape))\n",
    "print(\"y_train shape-> {}\".format(y_train.shape))\n",
    "print(\"x_test shape-> {}\".format(x_test.shape))\n",
    "print(\"y_test shape-> {}\".format(x_test.shape))"
   ]
  },
  {
   "cell_type": "code",
   "execution_count": 39,
   "metadata": {},
   "outputs": [
    {
     "data": {
      "text/plain": [
       "<matplotlib.axes._subplots.AxesSubplot at 0xa8f86a0>"
      ]
     },
     "execution_count": 39,
     "metadata": {},
     "output_type": "execute_result"
    },
    {
     "data": {
      "image/png": "[encoded data removed]",
      "text/plain": [
       "<Figure size 432x288 with 1 Axes>"
      ]
     },
     "metadata": {
      "needs_background": "light"
     },
     "output_type": "display_data"
    }
   ],
   "source": [
    "sns.boxplot(scaled_features)"
   ]
  },
  {
   "cell_type": "markdown",
   "metadata": {},
   "source": [
    "# prediction"
   ]
  },
  {
   "cell_type": "markdown",
   "metadata": {},
   "source": [
    "# Linear regression"
   ]
  },
  {
   "cell_type": "code",
   "execution_count": 28,
   "metadata": {},
   "outputs": [],
   "source": [
    "from sklearn.metrics import accuracy_score\n",
    "from sklearn.linear_model import LinearRegression"
   ]
  },
  {
   "cell_type": "code",
   "execution_count": 40,
   "metadata": {},
   "outputs": [],
   "source": [
    "mod=LinearRegression()"
   ]
  },
  {
   "cell_type": "code",
   "execution_count": 41,
   "metadata": {},
   "outputs": [
    {
     "data": {
      "text/plain": [
       "LinearRegression()"
      ]
     },
     "execution_count": 41,
     "metadata": {},
     "output_type": "execute_result"
    }
   ],
   "source": [
    "mod.fit(x_train,y_train)"
   ]
  },
  {
   "cell_type": "code",
   "execution_count": 42,
   "metadata": {},
   "outputs": [
    {
     "data": {
      "text/plain": [
       "139.00666457159133"
      ]
     },
     "execution_count": 42,
     "metadata": {},
     "output_type": "execute_result"
    }
   ],
   "source": [
    "mod.intercept_"
   ]
  },
  {
   "cell_type": "code",
   "execution_count": 43,
   "metadata": {},
   "outputs": [
    {
     "data": {
      "text/plain": [
       "array([-3.71252555e+01, -4.17712970e+00,  3.83003764e+01, -4.41734360e+01,\n",
       "       -1.90854184e+01, -2.98093239e+01, -3.43114912e+01, -2.77174373e+01,\n",
       "        9.69950577e+01, -8.47314298e+01,  1.01070285e+01, -2.92495758e+00,\n",
       "        6.57775482e+00, -1.01159911e+02, -1.98938806e+01,  3.18411001e+01,\n",
       "        3.84759538e+01,  2.04859487e+01,  3.19276366e+01, -6.36025788e+01,\n",
       "       -7.02243571e+01, -3.32932957e+01,  8.00960385e+01, -1.54752577e+02,\n",
       "        6.30800444e+01, -5.08181353e+01,  4.82491786e+00,  2.59347057e+01,\n",
       "       -8.99954555e+00,  3.97322681e+00,  7.02880968e+00, -5.24684153e+00,\n",
       "        4.35379733e+00,  1.52863955e+01,  6.97352070e-01,  3.92490746e+00,\n",
       "       -2.88164372e+01,  1.34598280e+01, -7.04246646e+01,  9.60491239e+00,\n",
       "        6.93753349e+01,  5.48872222e+00, -8.81139149e+01,  2.41938025e-01,\n",
       "        1.15497583e+02, -1.34937142e+01, -1.22667149e+00,  2.21340966e+01,\n",
       "       -3.98996960e+00,  1.67005353e+01,  3.39454970e+01, -6.57855906e+01,\n",
       "       -1.64239577e+02,  6.15423296e+00,  1.16687190e+02,  1.43332198e+01,\n",
       "       -7.41094807e+01,  3.48122606e+01, -1.02078152e+01, -4.25475906e+01,\n",
       "       -7.19566985e+01, -3.45937635e+01,  1.15114872e+01, -9.52836771e+00,\n",
       "        4.76676748e+00,  1.96092018e+01,  1.81112577e+01,  2.09138416e+01,\n",
       "        2.42544843e+01,  4.02822307e+01, -5.06353548e+01, -1.20447074e+01,\n",
       "       -2.10547814e+01,  4.19332461e-01,  5.60684592e-01,  1.80133035e+01,\n",
       "        9.80211247e+00,  1.98741648e+01, -1.83197696e+01, -6.64001556e+00,\n",
       "       -4.95264767e+00, -5.19918215e+00, -6.67937876e+00, -5.37201244e+01,\n",
       "        2.52210168e+01,  3.39910146e+01, -1.35336406e+01,  1.07569126e+01,\n",
       "       -3.07302718e+00, -3.69959087e+01, -7.21221667e+00, -1.12795794e+01,\n",
       "        1.51566523e+01,  5.09462804e+00, -1.32588770e+01, -7.28935898e+00,\n",
       "        1.81049017e+00,  2.45628909e+01, -9.22861583e+00,  5.77285740e+00,\n",
       "       -1.80551765e+01,  1.13323764e+01, -1.98867902e+01, -2.48888131e+01,\n",
       "       -2.04261870e+01,  3.52555254e+01,  1.76683734e+01, -4.19613364e+00,\n",
       "       -8.38116669e+00,  4.93475358e+01, -3.89145779e+00, -2.24673121e+01,\n",
       "        8.21476554e+01, -1.18950095e+01,  7.39579240e+01, -7.99663964e+00,\n",
       "       -3.56778333e+01,  1.26203823e+02, -5.57350368e+01,  3.02403446e+01,\n",
       "       -7.16604736e+00, -3.14810966e+00,  2.21610522e+01,  1.90559667e+01,\n",
       "       -3.50088123e+01,  2.82126644e+01, -7.20968971e+01, -1.55162142e+01,\n",
       "       -7.20106899e+01, -2.59194153e+00,  8.80616663e+01, -7.47070967e+01,\n",
       "        2.77291228e+01, -4.56162642e+01,  9.15986315e-01,  1.44840062e+01,\n",
       "       -4.83594196e+01, -3.68090289e+01,  4.67411059e+01, -2.70819378e+00,\n",
       "       -3.64875189e+01,  1.60560285e+01, -5.63088421e+01, -1.76828549e+00,\n",
       "        5.82217407e+01, -5.32915572e+01, -3.47066553e+01,  1.38592019e+01,\n",
       "        1.83787748e+01,  9.58569696e+00, -7.72715703e+00, -2.56628755e+01,\n",
       "       -3.31544987e+01,  5.47514082e+00, -3.58350414e+01, -9.04617901e+01,\n",
       "       -1.40941085e+01, -5.19601515e+01,  2.31964124e+01,  4.77339562e+01,\n",
       "        2.09405085e+01, -3.41774471e+01,  8.33503332e+01, -6.10398469e+01,\n",
       "        3.19214895e+01, -2.29812046e+01,  1.04446702e+01, -3.64954404e+01,\n",
       "        4.98433263e+01, -3.54560077e+01,  7.21398380e+00, -5.16968526e+01,\n",
       "        9.03562733e+00, -1.09838765e+02, -5.12782682e+01, -1.05638017e+02,\n",
       "        2.69910552e+01,  1.16224473e+02,  1.72790937e+01, -3.51786088e+01,\n",
       "        7.94426279e+01, -2.15146049e+01, -1.06166987e+02, -5.34026306e-01,\n",
       "        1.41040061e+01, -1.20638398e+01, -2.70315427e+01,  3.33148651e+01,\n",
       "        5.77675414e+01, -2.05068425e+01, -1.37210697e+01, -1.17223262e+01,\n",
       "       -9.63980253e+00, -1.30663228e+01, -1.19816369e+01, -1.05489635e+01,\n",
       "       -3.11235316e+00, -4.08185031e+00, -2.69248606e+00, -1.79539009e+00,\n",
       "        3.63975785e+01,  1.13882494e+01, -1.55095991e+01,  2.92930406e+01,\n",
       "        2.18060365e+01,  1.17179052e+01, -6.90630451e+01,  9.47039898e+00,\n",
       "        9.96473046e+00,  1.00815380e+01, -2.65391999e+01, -4.12291594e+01,\n",
       "       -8.62610994e+01,  3.34818992e+00,  6.09442239e+00, -8.83569796e-01,\n",
       "       -6.27761904e+00, -2.39322755e+01, -2.19359014e+01, -1.88595781e+01,\n",
       "       -9.76743001e+00, -9.00280932e+00,  6.27284628e+01,  1.84090955e+01,\n",
       "       -7.00690958e+00,  1.44908472e+01, -1.14507366e+01, -1.98030095e+01,\n",
       "       -1.42361278e+01, -2.12896426e+01, -4.89599197e+00,  2.54767152e+01,\n",
       "        9.07600384e+01,  4.58160933e+00,  8.21894417e+01,  5.59998442e+01,\n",
       "        8.35642000e-01, -1.06100416e+01, -4.71043808e+01, -2.42545112e+01,\n",
       "        6.98648817e+00, -2.41038369e+01, -2.00578612e+00, -4.68046154e+01,\n",
       "        8.99487271e+01, -8.32931172e+01, -3.43590197e+01, -2.11791781e+01,\n",
       "        5.98783525e+01,  1.27127790e+01, -5.10893507e+01,  1.17290941e+01,\n",
       "        2.30629484e+00, -1.26078763e+02,  1.17433755e+02, -3.32216657e+01,\n",
       "       -5.02477125e+00, -3.83280250e+01,  6.04488521e+01, -3.27705830e+01,\n",
       "        2.95327930e+01, -7.58584689e+00, -3.43450139e+01,  9.45750810e+01,\n",
       "        5.61130209e+01, -2.13488947e+01,  7.78068076e+01,  1.56824438e+01,\n",
       "        2.78290390e+01, -3.72077785e+01, -3.09994690e+01,  2.10443783e+01,\n",
       "        1.93616465e+00, -8.75820710e+01,  1.11530279e+02, -2.53952529e+01,\n",
       "       -5.72649001e+01, -6.92416438e+01, -9.25073896e+01,  8.10321838e+01,\n",
       "        3.34042971e+00, -5.39526854e+01, -3.65616675e+01, -1.12642225e+01,\n",
       "       -1.39013779e+01,  5.07648602e+00,  2.14384064e+01,  5.11317733e+01,\n",
       "        3.26708128e+01,  3.33095376e+01,  3.18266589e+01,  7.46132668e+00,\n",
       "       -2.89482685e+01, -6.72988845e+01,  1.15837721e+01,  1.85631546e+01,\n",
       "        2.03289249e+01, -1.71348187e+02,  4.25439995e+01,  4.25606120e+01,\n",
       "        4.20750114e+01, -7.30569619e+01, -4.48051044e+01, -2.05625019e+01,\n",
       "       -2.16684855e+01, -5.16885359e-01,  1.13989026e+01,  3.76147225e+01,\n",
       "        8.29323691e+00,  9.79420061e+00,  7.60803378e+00,  9.78862437e+01,\n",
       "       -3.15056633e+01,  1.22870194e+01,  2.66316045e+01,  1.45461094e+01,\n",
       "       -9.44362665e+00,  2.47296719e+01,  2.49711478e+01,  7.28487956e+00,\n",
       "        5.24120864e+00,  1.36430126e+01, -2.82195201e-01,  2.79539780e+01,\n",
       "       -4.38084425e+01, -7.83187337e+01, -5.39683908e+01,  1.21649216e+02,\n",
       "       -1.14923514e+02,  3.51863536e+01,  1.51057431e+01, -1.08883342e+01,\n",
       "       -1.98613015e+01, -9.54902658e+00, -5.92788623e+01,  7.31574931e+01,\n",
       "        7.26748799e+00,  7.01164577e+01, -1.11496537e+02,  9.35292433e+01,\n",
       "       -5.83395308e+01, -3.80918267e+00, -2.29753383e+01, -4.18681494e+01,\n",
       "        3.21892749e+01, -8.71229332e+01,  7.81011302e+01,  8.05643529e+00,\n",
       "       -4.65604902e+01,  1.36330000e+02, -8.27819241e+01,  1.60815291e+01,\n",
       "       -9.55125148e+01, -1.15312039e+01, -1.78195518e+01, -7.32947194e+01,\n",
       "        3.89349185e+01, -4.58327364e+01, -7.01621427e+00,  1.16582046e+01,\n",
       "       -3.62374274e+01,  2.11134754e+01,  1.80645093e+02, -8.57331389e+01,\n",
       "       -7.14488071e+01, -4.19747873e+01, -2.17483181e+01,  1.08918661e+02,\n",
       "       -2.46838724e+01,  1.20179268e+01,  5.05531207e+01,  3.45189401e+01,\n",
       "       -1.76869224e+02,  1.21776257e+02, -4.65621704e+01,  4.38169041e+01,\n",
       "       -4.88158096e+00,  5.83986956e+01,  1.86350607e+01,  2.51374362e+01,\n",
       "       -3.34802953e+01,  1.24019441e+01, -1.01443334e+00, -1.82219784e+01,\n",
       "        6.22879390e+01, -3.12854227e+01, -3.76726922e+01, -7.09319069e+01,\n",
       "        2.17562848e+01,  5.75929180e+01,  5.99553713e+01,  8.49435751e+01,\n",
       "        2.32961039e+01, -1.00546267e+02, -6.59151301e+01,  5.57446179e+01,\n",
       "        6.21461884e+01, -1.98723246e+01,  5.78701709e+01, -1.14376838e+02,\n",
       "       -8.82939671e+01,  3.95782318e+01,  7.21376142e+01, -1.55175779e+01,\n",
       "        6.09104866e+01,  1.81328068e+01, -1.60828984e+01, -4.23058968e+01,\n",
       "        1.97054629e+01, -2.83209884e+00, -6.22604764e+01,  1.41845989e+02,\n",
       "       -1.07285800e+01,  1.32793666e+01,  9.33412370e+01,  1.17741783e+02,\n",
       "       -1.95787329e+01,  2.63930258e+01,  1.22956961e-01, -1.26848755e+02,\n",
       "        6.94951288e+01, -2.35759649e+01,  1.25559684e+01,  6.13457555e+01,\n",
       "       -5.18614094e+01,  1.35146882e+00,  4.18360738e+01, -6.10631232e+01,\n",
       "        3.82716647e+01,  7.26953660e+00,  1.57116957e+01,  3.58779097e+01,\n",
       "       -4.91944841e+01,  2.97698175e+01,  9.08978700e+01, -7.37074758e+00,\n",
       "        1.61020878e+01,  1.32411130e+01, -1.61200327e+01, -8.21829046e+01,\n",
       "       -1.02008796e+02,  5.72916303e+01, -8.67594986e+01, -1.48087512e+01,\n",
       "       -1.85027238e+01,  5.94608255e+01,  1.53258301e+02, -6.29017543e+01,\n",
       "        9.45917501e+01,  6.52112592e+01, -1.93045009e+01,  1.50237388e+02,\n",
       "       -1.38840596e+02,  1.16491395e+02, -8.07476740e+00,  2.87610051e+01,\n",
       "        2.22581813e+02, -5.56437682e+01,  1.18563361e+02, -7.28052608e+01,\n",
       "        1.32438322e+00,  4.75633932e+01,  8.44436561e+01, -7.53647051e+01,\n",
       "        1.81959908e+02,  8.29327879e+01, -9.00207476e+01, -3.62624814e+01,\n",
       "        3.56368974e+01, -3.00171547e+00, -6.79433620e+01, -7.87879021e+01,\n",
       "        6.59904101e+01,  3.41216157e+01, -2.46209674e+01,  1.09183568e+02,\n",
       "        7.70538736e+01,  1.91981491e+01,  8.31539146e+01,  7.75875608e+01,\n",
       "       -4.78342906e+01,  5.51235938e+01, -1.07875744e+02,  7.64309502e+01,\n",
       "        5.63159218e+01,  3.02848771e+01,  9.54034876e+01,  1.63025187e+01,\n",
       "        4.25843583e+01, -8.30665952e+01,  6.85828879e+01, -2.43581079e+02,\n",
       "       -9.08558052e+00, -1.76030502e+02, -6.34193164e+01,  8.50959165e+01,\n",
       "       -4.66619016e+01,  1.01528607e+01,  6.19414774e+01, -6.74292219e+01,\n",
       "       -1.56928417e+01, -1.58282900e+01,  8.55714334e+00,  3.65746466e+00,\n",
       "        5.23573963e+00, -1.76301731e+01, -1.46531574e+01, -1.17090500e+01,\n",
       "       -3.24273212e+00, -1.52590936e+01, -8.69289249e+00, -1.19214163e+01,\n",
       "        2.69177337e+00, -7.03319506e+00, -8.53352005e+00,  6.39044638e+00,\n",
       "        1.24751989e+01, -5.28893844e+00,  6.94943843e+00, -9.31385974e+00,\n",
       "       -2.44665188e+01,  9.42706246e+00, -1.51337618e+01, -9.75837015e+00,\n",
       "        2.91723550e+00, -5.56534261e+00,  4.41088966e+00,  1.37543207e+00,\n",
       "        6.65056047e+00,  1.57398937e+01,  3.74822490e+01, -2.18486678e+01,\n",
       "       -2.04326756e+00, -2.46607398e+00,  1.99553472e+01,  2.89349334e+01,\n",
       "        1.54287527e+01,  1.32804859e+00,  5.90835860e+00,  3.55538277e+01,\n",
       "        4.99861631e+00,  1.45984742e+01,  7.76141377e+00, -1.32446897e+01,\n",
       "       -1.03535508e+01,  7.20121549e+00,  1.17542707e+00,  5.57470010e+00,\n",
       "       -8.17741011e-01, -1.05919011e+00,  9.07053110e+00, -3.23556426e+01,\n",
       "       -2.77815005e+00, -5.28498913e+00, -5.00057959e+00, -4.13435638e+00,\n",
       "        8.16265509e+00,  5.29732692e+00, -2.14168089e+00,  5.79740593e+00,\n",
       "        1.66565667e+01, -5.68175421e+00, -3.87683310e+00,  1.58693457e+01,\n",
       "        2.47873570e+01, -3.00363311e+00, -3.41363653e+01, -1.47899449e+01,\n",
       "       -1.76988381e+00, -2.88042857e+01,  2.15496919e+01, -3.97126905e+01,\n",
       "       -2.34906798e+01,  8.24202543e+01,  4.31344627e+01, -1.71976203e+01,\n",
       "        7.33872234e+00, -1.77235494e+02,  1.47412859e+02,  5.12712515e+01,\n",
       "        1.79814615e+02,  1.05060100e+01, -7.50012458e+01,  2.27294108e+01,\n",
       "       -2.42229002e+01,  2.33803021e+01, -7.00712847e+01, -2.07092950e+01,\n",
       "       -8.84850677e+01, -6.42438266e+01, -4.57711747e+01, -1.40641313e+02,\n",
       "       -1.04357058e+02, -1.49023836e+02, -3.87131401e+01, -1.39665003e+02,\n",
       "        3.43301131e+01,  3.56079478e+01,  7.74342423e+01, -1.19770564e+02,\n",
       "        7.89545549e+01, -1.55031181e+02,  8.20556629e+01,  1.08038765e+01,\n",
       "        6.94360042e+01,  1.45995578e+01, -8.60216279e+01, -7.09509961e+01,\n",
       "       -1.35274460e+02, -1.07459710e+01, -6.70699673e+01, -6.81012796e+00,\n",
       "       -1.03939081e+02,  1.11724950e+02,  2.01199557e+01,  3.95410933e+00,\n",
       "        1.30521866e+02,  3.62088334e+01, -5.64781511e+01,  1.26405769e+02,\n",
       "       -1.41315174e+02,  2.05911351e+01,  1.37542096e+02,  3.33496762e+01,\n",
       "       -6.53243885e+01,  3.99931945e+00,  1.30875080e+01,  7.11609548e+00,\n",
       "        3.20159767e+01,  1.87134149e+02,  5.12702289e+00, -8.11540573e+01,\n",
       "       -4.96393172e+01,  6.65243850e+01,  2.02745348e+01, -1.62636003e+02,\n",
       "       -4.44181694e+01, -5.79424320e+01,  4.93251292e+01, -9.05783434e+01,\n",
       "        5.28066644e+01,  1.39129944e+02, -1.42915681e+02,  7.13909902e+01,\n",
       "       -2.27676436e+00,  1.12410257e+01, -6.51015980e+01, -3.72239855e+01,\n",
       "       -2.47584824e+00,  7.93557860e+01, -7.08681585e+01, -4.94052958e+01,\n",
       "        8.79543131e+01,  4.94972739e+01,  1.91264093e+01,  4.50964734e+01,\n",
       "       -1.57324670e+02, -1.45146972e+01,  8.97652087e+01, -7.27697376e+00,\n",
       "        1.19064951e+02, -7.34112245e+01,  3.40307833e+01,  4.32352962e+01,\n",
       "        9.14481069e+00,  1.99888900e+02, -6.49260857e+01, -1.53647840e+02,\n",
       "        8.84949371e+01, -3.14703801e+01, -3.25329085e+01, -6.58909241e+01,\n",
       "       -6.48344375e+01,  2.59878113e+01,  3.38492793e+01,  5.13324080e+01,\n",
       "       -6.04783307e+01,  8.49788878e+01,  2.96796823e+01,  7.06219692e+01,\n",
       "       -8.45108971e+01, -2.42184903e+01,  4.73078292e+01, -3.45911486e+01,\n",
       "       -3.62573032e+01,  3.76549071e+01,  2.61787028e+01, -1.24806393e+01,\n",
       "        2.03777534e+01,  3.47405579e+01, -2.60667086e+01,  2.43537714e+01,\n",
       "        2.47807552e+00, -5.66704105e+00, -1.50096975e+01,  2.67575105e+01,\n",
       "       -4.18369298e+00, -6.16185093e+00, -4.37251428e+00, -1.13790757e+00,\n",
       "       -1.16227282e+00, -8.31899714e+00,  4.40077401e+01,  1.71376787e+01,\n",
       "        4.02742069e+00, -2.46565216e+00,  1.78357367e+01, -3.49218969e+00,\n",
       "        4.56311572e+01, -1.17558216e+01, -2.08157867e+01, -2.01303621e+01,\n",
       "        1.33926613e+00,  1.74021223e+01,  7.57312306e+00,  2.32276090e+01,\n",
       "       -2.18731145e+01,  1.46772860e+00, -4.31257979e+01,  2.77771793e+01,\n",
       "       -3.44420986e+01,  4.64263760e+01, -2.37885264e+01,  3.84986512e+00,\n",
       "        3.63309973e+01, -7.92588744e+01,  1.98549126e+01,  3.31085778e+01,\n",
       "       -3.65455575e+01,  5.74404223e+01, -1.08867166e+02,  4.34719087e+01,\n",
       "        2.23899255e+00,  4.28853583e+01, -4.59677549e+01,  3.79303528e+01,\n",
       "       -2.12337513e+01, -3.48050823e+01,  3.54983758e+01, -1.17178165e+01,\n",
       "        4.17133214e+01, -3.73645937e+00, -8.19218615e+00, -5.07743697e+01,\n",
       "        6.86458902e+01, -3.50635268e+01,  4.25988866e+01, -7.29713865e+01,\n",
       "        2.45407439e+01,  4.24873376e+00,  1.03074890e+02, -1.41310847e+02,\n",
       "        3.34201429e+01,  1.74191115e+01])"
      ]
     },
     "execution_count": 43,
     "metadata": {},
     "output_type": "execute_result"
    }
   ],
   "source": [
    "mod.coef_"
   ]
  },
  {
   "cell_type": "code",
   "execution_count": 44,
   "metadata": {},
   "outputs": [],
   "source": [
    "from sklearn.metrics import r2_score"
   ]
  },
  {
   "cell_type": "code",
   "execution_count": 45,
   "metadata": {},
   "outputs": [],
   "source": [
    "y_train_predict=mod.predict(x_train)"
   ]
  },
  {
   "cell_type": "code",
   "execution_count": 46,
   "metadata": {},
   "outputs": [
    {
     "data": {
      "text/plain": [
       "1.0"
      ]
     },
     "execution_count": 46,
     "metadata": {},
     "output_type": "execute_result"
    }
   ],
   "source": [
    "r2_score(y_train,y_train_predict)    #r2_score  refers to the coefficient of determination"
   ]
  },
  {
   "cell_type": "code",
   "execution_count": 47,
   "metadata": {},
   "outputs": [],
   "source": [
    "#KNN neighbour algorithm"
   ]
  },
  {
   "cell_type": "code",
   "execution_count": 48,
   "metadata": {},
   "outputs": [],
   "source": [
    "from sklearn.neighbors import KNeighborsClassifier"
   ]
  },
  {
   "cell_type": "code",
   "execution_count": 49,
   "metadata": {},
   "outputs": [
    {
     "data": {
      "text/plain": [
       "KNeighborsClassifier()"
      ]
     },
     "execution_count": 49,
     "metadata": {},
     "output_type": "execute_result"
    }
   ],
   "source": [
    "knn=KNeighborsClassifier()\n",
    "knn.fit(x_train,y_train)"
   ]
  },
  {
   "cell_type": "code",
   "execution_count": 50,
   "metadata": {},
   "outputs": [
    {
     "name": "stdout",
     "output_type": "stream",
     "text": [
      "KNN with k=5 got28.193832599118945% accuracy on the set.\n"
     ]
    }
   ],
   "source": [
    "print(\"KNN with k=5 got{}% accuracy on the set.\".format(accuracy_score(y_test,knn.predict(x_test))*100))"
   ]
  },
  {
   "cell_type": "markdown",
   "metadata": {},
   "source": [
    "# Classifiction on Random forest"
   ]
  },
  {
   "cell_type": "code",
   "execution_count": 58,
   "metadata": {},
   "outputs": [],
   "source": [
    "from sklearn.feature_selection import SelectKBest\n",
    "from sklearn.feature_selection import f_classif\n",
    "y=parkinson_data[\"class\"]\n",
    "x=parkinson_data.iloc[:,0:747]\n",
    "xnew2=SelectKBest(f_classif, k=20).fit_transform(x, y)"
   ]
  },
  {
   "cell_type": "code",
   "execution_count": 59,
   "metadata": {},
   "outputs": [
    {
     "data": {
      "text/html": [
       "<div>\n",
       "<style scoped>\n",
       "    .dataframe tbody tr th:only-of-type {\n",
       "        vertical-align: middle;\n",
       "    }\n",
       "\n",
       "    .dataframe tbody tr th {\n",
       "        vertical-align: top;\n",
       "    }\n",
       "\n",
       "    .dataframe thead th {\n",
       "        text-align: right;\n",
       "    }\n",
       "</style>\n",
       "<table border=\"1\" class=\"dataframe\">\n",
       "  <thead>\n",
       "    <tr style=\"text-align: right;\">\n",
       "      <th></th>\n",
       "      <th>0</th>\n",
       "      <th>1</th>\n",
       "      <th>2</th>\n",
       "      <th>3</th>\n",
       "      <th>4</th>\n",
       "      <th>5</th>\n",
       "      <th>6</th>\n",
       "      <th>7</th>\n",
       "      <th>8</th>\n",
       "      <th>9</th>\n",
       "      <th>10</th>\n",
       "      <th>11</th>\n",
       "      <th>12</th>\n",
       "      <th>13</th>\n",
       "      <th>14</th>\n",
       "      <th>15</th>\n",
       "      <th>16</th>\n",
       "      <th>17</th>\n",
       "      <th>18</th>\n",
       "      <th>19</th>\n",
       "    </tr>\n",
       "  </thead>\n",
       "  <tbody>\n",
       "    <tr>\n",
       "      <th>0</th>\n",
       "      <td>2.4874</td>\n",
       "      <td>0.028115</td>\n",
       "      <td>0.014642</td>\n",
       "      <td>0.019681</td>\n",
       "      <td>0.012829</td>\n",
       "      <td>0.021703</td>\n",
       "      <td>4.8840</td>\n",
       "      <td>-229943.2967</td>\n",
       "      <td>-201985.0408</td>\n",
       "      <td>0.000059</td>\n",
       "      <td>0.005199</td>\n",
       "      <td>0.004324</td>\n",
       "      <td>0.013373</td>\n",
       "      <td>-0.026321</td>\n",
       "      <td>-0.024286</td>\n",
       "      <td>-0.048924</td>\n",
       "      <td>0.022796</td>\n",
       "      <td>0.024286</td>\n",
       "      <td>0.048924</td>\n",
       "      <td>1.5466</td>\n",
       "    </tr>\n",
       "    <tr>\n",
       "      <th>1</th>\n",
       "      <td>2.8986</td>\n",
       "      <td>0.022166</td>\n",
       "      <td>0.025500</td>\n",
       "      <td>0.019374</td>\n",
       "      <td>0.010645</td>\n",
       "      <td>0.020296</td>\n",
       "      <td>4.8483</td>\n",
       "      <td>-230526.8175</td>\n",
       "      <td>-203389.4678</td>\n",
       "      <td>0.000169</td>\n",
       "      <td>0.005221</td>\n",
       "      <td>0.004344</td>\n",
       "      <td>0.011184</td>\n",
       "      <td>-0.070039</td>\n",
       "      <td>-0.099695</td>\n",
       "      <td>-0.112210</td>\n",
       "      <td>0.080975</td>\n",
       "      <td>0.099695</td>\n",
       "      <td>0.112210</td>\n",
       "      <td>1.5530</td>\n",
       "    </tr>\n",
       "    <tr>\n",
       "      <th>2</th>\n",
       "      <td>3.2208</td>\n",
       "      <td>0.032326</td>\n",
       "      <td>0.024607</td>\n",
       "      <td>0.024819</td>\n",
       "      <td>0.016553</td>\n",
       "      <td>0.023186</td>\n",
       "      <td>1.9849</td>\n",
       "      <td>-246592.6024</td>\n",
       "      <td>-214707.2576</td>\n",
       "      <td>0.000021</td>\n",
       "      <td>0.003136</td>\n",
       "      <td>0.002657</td>\n",
       "      <td>0.008093</td>\n",
       "      <td>-0.019435</td>\n",
       "      <td>-0.026241</td>\n",
       "      <td>-0.039886</td>\n",
       "      <td>0.013810</td>\n",
       "      <td>0.026241</td>\n",
       "      <td>0.039886</td>\n",
       "      <td>1.5399</td>\n",
       "    </tr>\n",
       "    <tr>\n",
       "      <th>3</th>\n",
       "      <td>3.1023</td>\n",
       "      <td>0.032577</td>\n",
       "      <td>0.017274</td>\n",
       "      <td>0.016129</td>\n",
       "      <td>0.015533</td>\n",
       "      <td>0.011976</td>\n",
       "      <td>3.2053</td>\n",
       "      <td>-255107.4287</td>\n",
       "      <td>-160775.5650</td>\n",
       "      <td>0.000493</td>\n",
       "      <td>0.004537</td>\n",
       "      <td>0.016104</td>\n",
       "      <td>0.051620</td>\n",
       "      <td>-0.121640</td>\n",
       "      <td>-0.129990</td>\n",
       "      <td>-0.268930</td>\n",
       "      <td>0.111290</td>\n",
       "      <td>0.122970</td>\n",
       "      <td>0.273530</td>\n",
       "      <td>6.9761</td>\n",
       "    </tr>\n",
       "    <tr>\n",
       "      <th>4</th>\n",
       "      <td>2.9451</td>\n",
       "      <td>0.031989</td>\n",
       "      <td>0.013791</td>\n",
       "      <td>0.016059</td>\n",
       "      <td>0.014382</td>\n",
       "      <td>0.012686</td>\n",
       "      <td>2.7170</td>\n",
       "      <td>-252647.9964</td>\n",
       "      <td>-154087.6641</td>\n",
       "      <td>0.000328</td>\n",
       "      <td>0.003931</td>\n",
       "      <td>0.015422</td>\n",
       "      <td>0.051298</td>\n",
       "      <td>-0.078138</td>\n",
       "      <td>-0.115900</td>\n",
       "      <td>-0.227210</td>\n",
       "      <td>0.086621</td>\n",
       "      <td>0.102950</td>\n",
       "      <td>0.235860</td>\n",
       "      <td>7.8832</td>\n",
       "    </tr>\n",
       "  </tbody>\n",
       "</table>\n",
       "</div>"
      ],
      "text/plain": [
       "        0         1         2         3         4         5       6  \\\n",
       "0  2.4874  0.028115  0.014642  0.019681  0.012829  0.021703  4.8840   \n",
       "1  2.8986  0.022166  0.025500  0.019374  0.010645  0.020296  4.8483   \n",
       "2  3.2208  0.032326  0.024607  0.024819  0.016553  0.023186  1.9849   \n",
       "3  3.1023  0.032577  0.017274  0.016129  0.015533  0.011976  3.2053   \n",
       "4  2.9451  0.031989  0.013791  0.016059  0.014382  0.012686  2.7170   \n",
       "\n",
       "             7            8         9        10        11        12        13  \\\n",
       "0 -229943.2967 -201985.0408  0.000059  0.005199  0.004324  0.013373 -0.026321   \n",
       "1 -230526.8175 -203389.4678  0.000169  0.005221  0.004344  0.011184 -0.070039   \n",
       "2 -246592.6024 -214707.2576  0.000021  0.003136  0.002657  0.008093 -0.019435   \n",
       "3 -255107.4287 -160775.5650  0.000493  0.004537  0.016104  0.051620 -0.121640   \n",
       "4 -252647.9964 -154087.6641  0.000328  0.003931  0.015422  0.051298 -0.078138   \n",
       "\n",
       "         14        15        16        17        18      19  \n",
       "0 -0.024286 -0.048924  0.022796  0.024286  0.048924  1.5466  \n",
       "1 -0.099695 -0.112210  0.080975  0.099695  0.112210  1.5530  \n",
       "2 -0.026241 -0.039886  0.013810  0.026241  0.039886  1.5399  \n",
       "3 -0.129990 -0.268930  0.111290  0.122970  0.273530  6.9761  \n",
       "4 -0.115900 -0.227210  0.086621  0.102950  0.235860  7.8832  "
      ]
     },
     "execution_count": 59,
     "metadata": {},
     "output_type": "execute_result"
    }
   ],
   "source": [
    "X=pd.DataFrame(xnew2)\n",
    "X.head()"
   ]
  },
  {
   "cell_type": "code",
   "execution_count": 61,
   "metadata": {},
   "outputs": [],
   "source": [
    "from sklearn.ensemble import RandomForestClassifier\n",
    "from sklearn.model_selection import train_test_split\n",
    "x_train, x_test, y_train, y_test = train_test_split(x,y, test_size=0.25, random_state=43421)\n",
    "rdclass=RandomForestClassifier()\n",
    "rdclass.fit(x_train,y_train)\n",
    "ypred=rdclass.predict(x_test)"
   ]
  },
  {
   "cell_type": "code",
   "execution_count": 62,
   "metadata": {},
   "outputs": [
    {
     "name": "stdout",
     "output_type": "stream",
     "text": [
      "[[ 24  21]\n",
      " [  4 140]]\n",
      "0.8677248677248677\n"
     ]
    }
   ],
   "source": [
    "from sklearn.metrics import confusion_matrix\n",
    "print(confusion_matrix(y_test,ypred))\n",
    "from sklearn.metrics import accuracy_score\n",
    "print(accuracy_score(y_test,ypred))"
   ]
  },
  {
   "cell_type": "code",
   "execution_count": null,
   "metadata": {},
   "outputs": [],
   "source": []
  }
 ],
 "metadata": {
  "kernelspec": {
   "display_name": "Python 3",
   "language": "python",
   "name": "python3"
  },
  "language_info": {
   "codemirror_mode": {
    "name": "ipython",
    "version": 3
   },
   "file_extension": ".py",
   "mimetype": "text/x-python",
   "name": "python",
   "nbconvert_exporter": "python",
   "pygments_lexer": "ipython3",
   "version": "3.8.3"
  }
 },
 "nbformat": 4,
 "nbformat_minor": 4
}
